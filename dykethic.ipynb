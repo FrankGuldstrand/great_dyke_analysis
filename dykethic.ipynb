{
 "cells": [
  {
   "cell_type": "markdown",
   "metadata": {},
   "source": [
    "# Plotting Dyke Thickness vs Length And Histogram"
   ]
  },
  {
   "cell_type": "code",
   "execution_count": 84,
   "metadata": {},
   "outputs": [],
   "source": [
    "import numpy as np\n",
    "import pandas as pd\n",
    "import matplotlib\n",
    "import matplotlib.pyplot as plt\n",
    "import os\n"
   ]
  },
  {
   "cell_type": "code",
   "execution_count": 85,
   "metadata": {},
   "outputs": [
    {
     "data": {
      "text/plain": [
       "'/Users/buster/Documents/Projects/Tobias_UA_Visit/SectionsExample'"
      ]
     },
     "execution_count": 85,
     "metadata": {},
     "output_type": "execute_result"
    }
   ],
   "source": [
    "os.getcwd()"
   ]
  },
  {
   "cell_type": "code",
   "execution_count": 86,
   "metadata": {},
   "outputs": [
    {
     "name": "stdout",
     "output_type": "stream",
     "text": [
      "\u001b[31mP1_sectionsP1Section_10.dat\u001b[m\u001b[m* \u001b[31mP1_sectionsP1Section_7.dat\u001b[m\u001b[m*\r\n",
      "\u001b[31mP1_sectionsP1Section_5.dat\u001b[m\u001b[m*  \u001b[31mP1_sectionsP1Section_8.dat\u001b[m\u001b[m*\r\n",
      "\u001b[31mP1_sectionsP1Section_6.dat\u001b[m\u001b[m*  \u001b[31mP1_sectionsP1Section_9.dat\u001b[m\u001b[m*\r\n"
     ]
    }
   ],
   "source": [
    "%ls"
   ]
  },
  {
   "cell_type": "code",
   "execution_count": 87,
   "metadata": {},
   "outputs": [
    {
     "data": {
      "text/html": [
       "<div>\n",
       "<style scoped>\n",
       "    .dataframe tbody tr th:only-of-type {\n",
       "        vertical-align: middle;\n",
       "    }\n",
       "\n",
       "    .dataframe tbody tr th {\n",
       "        vertical-align: top;\n",
       "    }\n",
       "\n",
       "    .dataframe thead th {\n",
       "        text-align: right;\n",
       "    }\n",
       "</style>\n",
       "<table border=\"1\" class=\"dataframe\">\n",
       "  <thead>\n",
       "    <tr style=\"text-align: right;\">\n",
       "      <th></th>\n",
       "      <th>5082101589</th>\n",
       "      <th>f0</th>\n",
       "      <th>f1</th>\n",
       "      <th>58999329295</th>\n",
       "      <th>f2</th>\n",
       "      <th>f3</th>\n",
       "      <th>f4</th>\n",
       "      <th>f5</th>\n",
       "      <th>f6</th>\n",
       "      <th>16585244</th>\n",
       "    </tr>\n",
       "  </thead>\n",
       "  <tbody>\n",
       "    <tr>\n",
       "      <th>0</th>\n",
       "      <td>508210.3116</td>\n",
       "      <td>False</td>\n",
       "      <td>False</td>\n",
       "      <td>5.899933e+06</td>\n",
       "      <td>False</td>\n",
       "      <td>False</td>\n",
       "      <td>False</td>\n",
       "      <td>False</td>\n",
       "      <td>False</td>\n",
       "      <td>1658.5810</td>\n",
       "    </tr>\n",
       "    <tr>\n",
       "      <th>1</th>\n",
       "      <td>508210.4287</td>\n",
       "      <td>False</td>\n",
       "      <td>False</td>\n",
       "      <td>5.899933e+06</td>\n",
       "      <td>False</td>\n",
       "      <td>False</td>\n",
       "      <td>False</td>\n",
       "      <td>False</td>\n",
       "      <td>False</td>\n",
       "      <td>1658.7647</td>\n",
       "    </tr>\n",
       "    <tr>\n",
       "      <th>2</th>\n",
       "      <td>508210.5719</td>\n",
       "      <td>False</td>\n",
       "      <td>False</td>\n",
       "      <td>5.899933e+06</td>\n",
       "      <td>False</td>\n",
       "      <td>False</td>\n",
       "      <td>False</td>\n",
       "      <td>False</td>\n",
       "      <td>False</td>\n",
       "      <td>1658.9045</td>\n",
       "    </tr>\n",
       "    <tr>\n",
       "      <th>3</th>\n",
       "      <td>508210.8885</td>\n",
       "      <td>False</td>\n",
       "      <td>False</td>\n",
       "      <td>5.899932e+06</td>\n",
       "      <td>False</td>\n",
       "      <td>False</td>\n",
       "      <td>False</td>\n",
       "      <td>False</td>\n",
       "      <td>False</td>\n",
       "      <td>1659.1771</td>\n",
       "    </tr>\n",
       "    <tr>\n",
       "      <th>4</th>\n",
       "      <td>508210.9171</td>\n",
       "      <td>False</td>\n",
       "      <td>False</td>\n",
       "      <td>5.899932e+06</td>\n",
       "      <td>False</td>\n",
       "      <td>False</td>\n",
       "      <td>False</td>\n",
       "      <td>False</td>\n",
       "      <td>False</td>\n",
       "      <td>1659.2210</td>\n",
       "    </tr>\n",
       "  </tbody>\n",
       "</table>\n",
       "</div>"
      ],
      "text/plain": [
       "    5082101589     f0     f1   58999329295     f2     f3     f4     f5     f6  \\\n",
       "0  508210.3116  False  False  5.899933e+06  False  False  False  False  False   \n",
       "1  508210.4287  False  False  5.899933e+06  False  False  False  False  False   \n",
       "2  508210.5719  False  False  5.899933e+06  False  False  False  False  False   \n",
       "3  508210.8885  False  False  5.899932e+06  False  False  False  False  False   \n",
       "4  508210.9171  False  False  5.899932e+06  False  False  False  False  False   \n",
       "\n",
       "    16585244  \n",
       "0  1658.5810  \n",
       "1  1658.7647  \n",
       "2  1658.9045  \n",
       "3  1659.1771  \n",
       "4  1659.2210  "
      ]
     },
     "execution_count": 87,
     "metadata": {},
     "output_type": "execute_result"
    }
   ],
   "source": [
    "path='/SectionsExample/' # Text string path to data (keep it nice and clean)\n",
    "file='P1_sectionsP1Section_10.dat'\n",
    "data = np.genfromtxt(file,\n",
    "                     skip_header=1,\n",
    "                     names=True,\n",
    "                     dtype=None,\n",
    "                     delimiter=' ')\n",
    "data=pd.DataFrame(data)    # values  # 1st row as the column names\n",
    "data.head()"
   ]
  },
  {
   "cell_type": "code",
   "execution_count": 88,
   "metadata": {},
   "outputs": [
    {
     "data": {
      "text/html": [
       "<div>\n",
       "<style scoped>\n",
       "    .dataframe tbody tr th:only-of-type {\n",
       "        vertical-align: middle;\n",
       "    }\n",
       "\n",
       "    .dataframe tbody tr th {\n",
       "        vertical-align: top;\n",
       "    }\n",
       "\n",
       "    .dataframe thead th {\n",
       "        text-align: right;\n",
       "    }\n",
       "</style>\n",
       "<table border=\"1\" class=\"dataframe\">\n",
       "  <thead>\n",
       "    <tr style=\"text-align: right;\">\n",
       "      <th></th>\n",
       "      <th>5082101589</th>\n",
       "      <th>58999329295</th>\n",
       "      <th>16585244</th>\n",
       "    </tr>\n",
       "  </thead>\n",
       "  <tbody>\n",
       "    <tr>\n",
       "      <th>0</th>\n",
       "      <td>508210.3116</td>\n",
       "      <td>5.899933e+06</td>\n",
       "      <td>1658.5810</td>\n",
       "    </tr>\n",
       "    <tr>\n",
       "      <th>1</th>\n",
       "      <td>508210.4287</td>\n",
       "      <td>5.899933e+06</td>\n",
       "      <td>1658.7647</td>\n",
       "    </tr>\n",
       "    <tr>\n",
       "      <th>2</th>\n",
       "      <td>508210.5719</td>\n",
       "      <td>5.899933e+06</td>\n",
       "      <td>1658.9045</td>\n",
       "    </tr>\n",
       "    <tr>\n",
       "      <th>3</th>\n",
       "      <td>508210.8885</td>\n",
       "      <td>5.899932e+06</td>\n",
       "      <td>1659.1771</td>\n",
       "    </tr>\n",
       "    <tr>\n",
       "      <th>4</th>\n",
       "      <td>508210.9171</td>\n",
       "      <td>5.899932e+06</td>\n",
       "      <td>1659.2210</td>\n",
       "    </tr>\n",
       "  </tbody>\n",
       "</table>\n",
       "</div>"
      ],
      "text/plain": [
       "    5082101589   58999329295   16585244\n",
       "0  508210.3116  5.899933e+06  1658.5810\n",
       "1  508210.4287  5.899933e+06  1658.7647\n",
       "2  508210.5719  5.899933e+06  1658.9045\n",
       "3  508210.8885  5.899932e+06  1659.1771\n",
       "4  508210.9171  5.899932e+06  1659.2210"
      ]
     },
     "execution_count": 88,
     "metadata": {},
     "output_type": "execute_result"
    }
   ],
   "source": [
    "data=data.drop([\"f0\",\"f1\",\"f2\",\"f3\",\"f4\",\"f5\",\"f6\"], axis=1)\n",
    "\n",
    "data.head()"
   ]
  },
  {
   "cell_type": "code",
   "execution_count": 81,
   "metadata": {},
   "outputs": [],
   "source": [
    "data.loc[-1] = ['x', 'y', 'z']  # adding a row\n",
    "data.index = data.index + 1  # shifting index\n",
    "data = data.sort_index()  # sorting by index"
   ]
  },
  {
   "cell_type": "code",
   "execution_count": 82,
   "metadata": {},
   "outputs": [
    {
     "data": {
      "text/html": [
       "<div>\n",
       "<style scoped>\n",
       "    .dataframe tbody tr th:only-of-type {\n",
       "        vertical-align: middle;\n",
       "    }\n",
       "\n",
       "    .dataframe tbody tr th {\n",
       "        vertical-align: top;\n",
       "    }\n",
       "\n",
       "    .dataframe thead th {\n",
       "        text-align: right;\n",
       "    }\n",
       "</style>\n",
       "<table border=\"1\" class=\"dataframe\">\n",
       "  <thead>\n",
       "    <tr style=\"text-align: right;\">\n",
       "      <th></th>\n",
       "      <th>5082101589</th>\n",
       "      <th>58999329295</th>\n",
       "      <th>16585244</th>\n",
       "    </tr>\n",
       "  </thead>\n",
       "  <tbody>\n",
       "    <tr>\n",
       "      <th>0</th>\n",
       "      <td>x</td>\n",
       "      <td>y</td>\n",
       "      <td>z</td>\n",
       "    </tr>\n",
       "    <tr>\n",
       "      <th>1</th>\n",
       "      <td>508210</td>\n",
       "      <td>5.89993e+06</td>\n",
       "      <td>1658.58</td>\n",
       "    </tr>\n",
       "    <tr>\n",
       "      <th>2</th>\n",
       "      <td>508210</td>\n",
       "      <td>5.89993e+06</td>\n",
       "      <td>1658.76</td>\n",
       "    </tr>\n",
       "    <tr>\n",
       "      <th>3</th>\n",
       "      <td>508211</td>\n",
       "      <td>5.89993e+06</td>\n",
       "      <td>1658.9</td>\n",
       "    </tr>\n",
       "    <tr>\n",
       "      <th>4</th>\n",
       "      <td>508211</td>\n",
       "      <td>5.89993e+06</td>\n",
       "      <td>1659.18</td>\n",
       "    </tr>\n",
       "  </tbody>\n",
       "</table>\n",
       "</div>"
      ],
      "text/plain": [
       "  5082101589  58999329295 16585244\n",
       "0          x            y        z\n",
       "1     508210  5.89993e+06  1658.58\n",
       "2     508210  5.89993e+06  1658.76\n",
       "3     508211  5.89993e+06   1658.9\n",
       "4     508211  5.89993e+06  1659.18"
      ]
     },
     "execution_count": 82,
     "metadata": {},
     "output_type": "execute_result"
    }
   ],
   "source": [
    "data.head()\n"
   ]
  },
  {
   "cell_type": "code",
   "execution_count": null,
   "metadata": {},
   "outputs": [],
   "source": []
  }
 ],
 "metadata": {
  "kernelspec": {
   "display_name": "Python 3",
   "language": "python",
   "name": "python3"
  },
  "language_info": {
   "codemirror_mode": {
    "name": "ipython",
    "version": 3
   },
   "file_extension": ".py",
   "mimetype": "text/x-python",
   "name": "python",
   "nbconvert_exporter": "python",
   "pygments_lexer": "ipython3",
   "version": "3.7.3"
  }
 },
 "nbformat": 4,
 "nbformat_minor": 2
}
